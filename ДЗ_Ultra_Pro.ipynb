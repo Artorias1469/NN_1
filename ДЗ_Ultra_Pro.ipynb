{
  "nbformat": 4,
  "nbformat_minor": 0,
  "metadata": {
    "colab": {
      "provenance": [],
      "gpuType": "T4"
    },
    "kernelspec": {
      "name": "python3",
      "display_name": "Python 3"
    },
    "language_info": {
      "name": "python"
    },
    "accelerator": "GPU"
  },
  "cells": [
    {
      "cell_type": "markdown",
      "source": [
        "# Задание"
      ],
      "metadata": {
        "id": "ujUTHlu4BKay"
      }
    },
    {
      "cell_type": "markdown",
      "source": [
        "Распознайте рукописную цифру, написанную на листе от руки.\n",
        "Последовательность шагов следующая:\n",
        "\n",
        "*   На бумаге рисуем произвольную цифру (желательно нарисовать цифру размером не\n",
        "более 5 * 5 мм и без наклона. В занятии нейронка обучалась на цифрах американских студентов. Эти цифры были написаны на тетрадных листах в клетку и имели схожий размер).\n",
        "*   Фотографируем. Загружаем фото в Collaboratory.\n",
        "*   С помощью функции image.load_img(path, target_size=(28, 28), color_mode = ‘grayscale’) загружаем картинку в переменную.\n",
        "*   С помощью функции image.img_to_array(img) преобразуем изображение в numpy-массив.\n",
        "*   Выполняем инверсию цветов, нормирование и решейп массива.\n",
        "*   Выполняем распознавание собственной рукописной цифры.\n",
        "\n",
        "Примечание: точность распознавания рукописных цифр может быть достаточно низкой, т.к. рукописные цифры после преобразований хоть и похожи на содержащиеся в базе, но могут отличаться по конфигурации, толщине линий и т.д."
      ],
      "metadata": {
        "id": "vKgnksZcEAdw"
      }
    },
    {
      "cell_type": "markdown",
      "source": [
        "# Импорт необходимых библиотек для работы с распознаванием цифр\n",
        "В этом блоке подключаются модули, необходимые для загрузки обучающего датасета и создания нейронной сети:\n",
        "\n",
        "- from tensorflow.keras.datasets import mnist — загрузка встроенного набора данных MNIST с изображениями рукописных цифр (28×28 пикселей).\n",
        "\n",
        "- from tensorflow.keras import utils — утилиты Keras, включая to_categorical для one-hot кодирования меток.\n",
        "\n",
        "- from tensorflow.keras.models import Sequential — используется для создания модели нейронной сети типа \"последовательная\".\n",
        "\n",
        "- from tensorflow.keras.layers import Dense — импорт слоя плотных (полносвязных) нейронов.\n",
        "\n",
        "- import numpy as np — работа с массивами и матрицами (NumPy — основной инструмент для обработки числовых данных)."
      ],
      "metadata": {
        "id": "eGs7HS38B7dP"
      }
    },
    {
      "cell_type": "code",
      "source": [
        "import os                                   # Работа с файловой системой\n",
        "import warnings                             # Подавление предупреждений\n",
        "import numpy as np                         # Работа с массивами\n",
        "\n",
        "from tensorflow.keras import utils         # Утилиты Keras (to_categorical и др.)\n",
        "from tensorflow.keras.datasets import mnist  # Загрузка датасета MNIST\n",
        "from tensorflow.keras.layers import Dense  # Полносвязный слой\n",
        "from tensorflow.keras.models import Sequential  # Создание нейросети\n",
        "\n",
        "# Отключаем предупреждения, чтобы не мешали выводу\n",
        "warnings.filterwarnings('ignore')"
      ],
      "metadata": {
        "id": "FLWztPNsEXur"
      },
      "execution_count": 1,
      "outputs": []
    },
    {
      "cell_type": "markdown",
      "source": [
        "# Подготовка данных из набора MNIST\n",
        "В этом блоке производится загрузка и предварительная обработка изображений рукописных цифр из набора MNIST:\n",
        "\n",
        "Происходи загрузка данных:\n",
        "- mnist.load_data() загружает обучающую и тестовую выборки, содержащие изображения (размером 28×28 пикселей) и соответствующие им метки.\n",
        "\n",
        "Изменение формы входных данных:\n",
        "- Изображения преобразуются в векторы длиной 784 (28×28) с помощью reshape, чтобы передать их в полносвязную нейронную сеть.\n",
        "\n",
        "Нормализация:\n",
        "- Все пиксели приводятся к диапазону [0, 1], делением на 255, и тип данных меняется на float32.\n",
        "\n",
        "Преобразование меток:\n",
        "- Метки классов (y_train и y_test) переводятся в формат one-hot encoding, где каждая цифра представляется как вектор из 10 элементов (по числу классов от 0 до 9)."
      ],
      "metadata": {
        "id": "r1jOESuUCviA"
      }
    },
    {
      "cell_type": "code",
      "source": [
        "(x_train_org, y_train_org), (x_test_org, y_test_org) = mnist.load_data()\n",
        "\n",
        "x_train = x_train_org.reshape(x_train_org.shape[0], -1)\n",
        "x_test = x_test_org.reshape(x_test_org.shape[0], -1)\n",
        "\n",
        "# Преобразование x_train в тип float32 (числа с плавающей точкой) и нормализация\n",
        "x_train = x_train.astype(\"float32\") / 255.0\n",
        "\n",
        "# Преобразование x_test в тип float32 (числа с плавающей точкой) и нормализация\n",
        "x_test = x_test.astype(\"float32\") / 255.0\n",
        "\n",
        "CLASS_COUNT = 10\n",
        "\n",
        "\n",
        "# Преобразование ответов в формат one_hot_encoding\n",
        "y_train = utils.to_categorical(y_train_org, CLASS_COUNT)\n",
        "y_test = utils.to_categorical(y_test_org, CLASS_COUNT)"
      ],
      "metadata": {
        "colab": {
          "base_uri": "https://localhost:8080/"
        },
        "id": "vb_-JelpEa5k",
        "outputId": "2bddf0c5-1d75-4434-848c-64b59449a6f2"
      },
      "execution_count": 2,
      "outputs": [
        {
          "output_type": "stream",
          "name": "stdout",
          "text": [
            "Downloading data from https://storage.googleapis.com/tensorflow/tf-keras-datasets/mnist.npz\n",
            "\u001b[1m11490434/11490434\u001b[0m \u001b[32m━━━━━━━━━━━━━━━━━━━━\u001b[0m\u001b[37m\u001b[0m \u001b[1m0s\u001b[0m 0us/step\n"
          ]
        }
      ]
    },
    {
      "cell_type": "markdown",
      "source": [
        "# Создание и компиляция нейронной сети для распознавания цифр\n",
        "В этом блоке формируется архитектура нейронной сети и её подготовка к обучению:\n",
        "\n",
        "Выполняется моздание модели, используется последовательная модель Sequential, где слои добавляются один за другим.\n",
        "\n",
        "Полносвязные слои:\n",
        "\n",
        "- Первый скрытый слой содержит 800 нейронов с активацией ReLU и принимает на вход векторы длиной 784 (28×28 пикселей, развернутые в вектор).\n",
        "\n",
        "- Второй скрытый слой — 400 нейронов с активацией ReLU, что помогает модели учиться сложным представлениям.\n",
        "\n",
        "Выходной слой:\n",
        "- Состоит из 10 нейронов (по числу классов от 0 до 9), использует функцию активации softmax для получения вероятностей классов.\n",
        "\n",
        "Далее выполняется компиляция:\n",
        "- Используется функция потерь categorical_crossentropy (подходит для многоклассовой классификации), оптимизатор Adam и метрика точности (accuracy)."
      ],
      "metadata": {
        "id": "to-XIIZ2DNMN"
      }
    },
    {
      "cell_type": "code",
      "source": [
        "# Создание последовательной модели\n",
        "model = Sequential()\n",
        "\n",
        "# Добавление полносвязного слоя на 800 нейронов с relu-активацией\n",
        "model.add(Dense(800, input_dim=784, activation=\"relu\"))\n",
        "\n",
        "# Добавление полносвязного слоя на 400 нейронов с relu-активацией\n",
        "model.add(Dense(400, activation=\"relu\"))\n",
        "\n",
        "# Добавление полносвязного слоя с количеством нейронов по числу классов с softmax-активацией\n",
        "model.add(Dense(CLASS_COUNT, activation=\"softmax\"))\n",
        "\n",
        "# Компиляция модели\n",
        "model.compile(loss=\"categorical_crossentropy\", optimizer=\"adam\", metrics=[\"accuracy\"])"
      ],
      "metadata": {
        "id": "5iorRVdEEa6P"
      },
      "execution_count": 3,
      "outputs": []
    },
    {
      "cell_type": "markdown",
      "source": [
        "# Обучение нейронной сети\n",
        "В данном блоке происходит процесс обучения модели на подготовленных данных:\n",
        "\n",
        "Входные данные:\n",
        "- Используются нормализованные векторы изображений x_train и соответствующие one-hot метки y_train.\n",
        "\n",
        "Параметры обучения:\n",
        "\n",
        "- batch_size=128 — сеть обновляет веса после обработки каждого батча из 128 примеров.\n",
        "\n",
        "- epochs=15 — модель проходит 15 полных циклов по всему набору данных.\n",
        "\n",
        "- verbose=1 — вывод подробной информации о ходе обучения в консоль.\n"
      ],
      "metadata": {
        "id": "t2gjT10mDpDf"
      }
    },
    {
      "cell_type": "code",
      "source": [
        "model.fit(\n",
        "    x_train,  # обучающая выборка, входные данные\n",
        "    y_train,  # обучающая выборка, выходные данные\n",
        "    batch_size=128,  # кол-во примеров, которое обрабатывает нейронка перед одним изменением весов\n",
        "    epochs=15,  # количество эпох, когда нейронка обучается на всех примерах выборки\n",
        "    verbose=1,\n",
        ")  # 0 - не визуализировать ход обучения, 1 - визуализировать"
      ],
      "metadata": {
        "colab": {
          "base_uri": "https://localhost:8080/"
        },
        "id": "XvWyVBF9El_j",
        "outputId": "b855cd20-a665-454e-feb1-f67535a8dbf8"
      },
      "execution_count": 4,
      "outputs": [
        {
          "output_type": "stream",
          "name": "stdout",
          "text": [
            "Epoch 1/15\n",
            "\u001b[1m469/469\u001b[0m \u001b[32m━━━━━━━━━━━━━━━━━━━━\u001b[0m\u001b[37m\u001b[0m \u001b[1m5s\u001b[0m 5ms/step - accuracy: 0.8884 - loss: 0.3777\n",
            "Epoch 2/15\n",
            "\u001b[1m469/469\u001b[0m \u001b[32m━━━━━━━━━━━━━━━━━━━━\u001b[0m\u001b[37m\u001b[0m \u001b[1m1s\u001b[0m 2ms/step - accuracy: 0.9759 - loss: 0.0762\n",
            "Epoch 3/15\n",
            "\u001b[1m469/469\u001b[0m \u001b[32m━━━━━━━━━━━━━━━━━━━━\u001b[0m\u001b[37m\u001b[0m \u001b[1m1s\u001b[0m 2ms/step - accuracy: 0.9841 - loss: 0.0489\n",
            "Epoch 4/15\n",
            "\u001b[1m469/469\u001b[0m \u001b[32m━━━━━━━━━━━━━━━━━━━━\u001b[0m\u001b[37m\u001b[0m \u001b[1m1s\u001b[0m 3ms/step - accuracy: 0.9901 - loss: 0.0306\n",
            "Epoch 5/15\n",
            "\u001b[1m469/469\u001b[0m \u001b[32m━━━━━━━━━━━━━━━━━━━━\u001b[0m\u001b[37m\u001b[0m \u001b[1m1s\u001b[0m 3ms/step - accuracy: 0.9931 - loss: 0.0214\n",
            "Epoch 6/15\n",
            "\u001b[1m469/469\u001b[0m \u001b[32m━━━━━━━━━━━━━━━━━━━━\u001b[0m\u001b[37m\u001b[0m \u001b[1m1s\u001b[0m 3ms/step - accuracy: 0.9939 - loss: 0.0197\n",
            "Epoch 7/15\n",
            "\u001b[1m469/469\u001b[0m \u001b[32m━━━━━━━━━━━━━━━━━━━━\u001b[0m\u001b[37m\u001b[0m \u001b[1m1s\u001b[0m 3ms/step - accuracy: 0.9943 - loss: 0.0172\n",
            "Epoch 8/15\n",
            "\u001b[1m469/469\u001b[0m \u001b[32m━━━━━━━━━━━━━━━━━━━━\u001b[0m\u001b[37m\u001b[0m \u001b[1m1s\u001b[0m 3ms/step - accuracy: 0.9966 - loss: 0.0107\n",
            "Epoch 9/15\n",
            "\u001b[1m469/469\u001b[0m \u001b[32m━━━━━━━━━━━━━━━━━━━━\u001b[0m\u001b[37m\u001b[0m \u001b[1m2s\u001b[0m 3ms/step - accuracy: 0.9946 - loss: 0.0148\n",
            "Epoch 10/15\n",
            "\u001b[1m469/469\u001b[0m \u001b[32m━━━━━━━━━━━━━━━━━━━━\u001b[0m\u001b[37m\u001b[0m \u001b[1m2s\u001b[0m 3ms/step - accuracy: 0.9968 - loss: 0.0097\n",
            "Epoch 11/15\n",
            "\u001b[1m469/469\u001b[0m \u001b[32m━━━━━━━━━━━━━━━━━━━━\u001b[0m\u001b[37m\u001b[0m \u001b[1m1s\u001b[0m 3ms/step - accuracy: 0.9946 - loss: 0.0163\n",
            "Epoch 12/15\n",
            "\u001b[1m469/469\u001b[0m \u001b[32m━━━━━━━━━━━━━━━━━━━━\u001b[0m\u001b[37m\u001b[0m \u001b[1m1s\u001b[0m 3ms/step - accuracy: 0.9967 - loss: 0.0101\n",
            "Epoch 13/15\n",
            "\u001b[1m469/469\u001b[0m \u001b[32m━━━━━━━━━━━━━━━━━━━━\u001b[0m\u001b[37m\u001b[0m \u001b[1m1s\u001b[0m 3ms/step - accuracy: 0.9980 - loss: 0.0065\n",
            "Epoch 14/15\n",
            "\u001b[1m469/469\u001b[0m \u001b[32m━━━━━━━━━━━━━━━━━━━━\u001b[0m\u001b[37m\u001b[0m \u001b[1m1s\u001b[0m 3ms/step - accuracy: 0.9980 - loss: 0.0065\n",
            "Epoch 15/15\n",
            "\u001b[1m469/469\u001b[0m \u001b[32m━━━━━━━━━━━━━━━━━━━━\u001b[0m\u001b[37m\u001b[0m \u001b[1m1s\u001b[0m 3ms/step - accuracy: 0.9955 - loss: 0.0138\n"
          ]
        },
        {
          "output_type": "execute_result",
          "data": {
            "text/plain": [
              "<keras.src.callbacks.history.History at 0x788361deabd0>"
            ]
          },
          "metadata": {},
          "execution_count": 4
        }
      ]
    },
    {
      "cell_type": "markdown",
      "source": [
        "Далее были реализованы операции по сохранению и восстановлению обученных параметров нейронной сети:\n",
        "\n",
        "Сохранение весов:\n",
        "- model.save_weights(\"dz_ultra_pro.weights.h5\") — сохраняет текущие веса модели в файл с расширением .h5. Это удобно для последующего использования без необходимости повторного обучения.\n",
        "\n",
        "Загрузка весов:\n",
        "- model.load_weights(\"dz_ultra_pro.weights.h5\") — загружает сохранённые веса из файла, позволяя восстановить состояние модели и сразу использовать её для предсказаний или дальнейшего обучения."
      ],
      "metadata": {
        "id": "c7s8BvafD4UO"
      }
    },
    {
      "cell_type": "code",
      "source": [
        "model.save_weights(\"dz_ultra_pro.weights.h5\")\n",
        "model.load_weights(\"dz_ultra_pro.weights.h5\")"
      ],
      "metadata": {
        "id": "Odx1EHJ-E3NJ"
      },
      "execution_count": 5,
      "outputs": []
    },
    {
      "cell_type": "markdown",
      "source": [
        "Далее подключаются необходимые инструменты для работы с изображениями и подключения к Google Диску:\n",
        "\n",
        "- from tensorflow.keras.preprocessing import image — загрузка и предобработка изображений.\n",
        "\n",
        "- import matplotlib.pyplot as plt — библиотека для визуализации изображений и графиков.\n",
        "\n",
        "- from google.colab import drive и drive.mount('/content/drive') — монтирование Google Диска для загрузки и сохранения файлов в среде Google Colaboratory."
      ],
      "metadata": {
        "id": "ts8GAM3JEHXE"
      }
    },
    {
      "cell_type": "code",
      "source": [
        "from tensorflow.keras.preprocessing import image\n",
        "import matplotlib.pyplot as plt\n",
        "from google.colab import drive\n",
        "drive.mount('/content/drive')"
      ],
      "metadata": {
        "id": "zTGuxsIzE6K7",
        "colab": {
          "base_uri": "https://localhost:8080/"
        },
        "outputId": "4db9c43f-2bfa-40ef-ad1a-57b10fbed9fe",
        "collapsed": true
      },
      "execution_count": 23,
      "outputs": [
        {
          "output_type": "stream",
          "name": "stdout",
          "text": [
            "Drive already mounted at /content/drive; to attempt to forcibly remount, call drive.mount(\"/content/drive\", force_remount=True).\n"
          ]
        }
      ]
    },
    {
      "cell_type": "markdown",
      "source": [],
      "metadata": {
        "id": "BCTXWkBHa-Yc"
      }
    },
    {
      "cell_type": "markdown",
      "source": [
        "# Загрузка, предобработка и визуализация пользовательского изображения\n",
        "В этом блоке происходит подготовка рукописной цифры, загруженной с Google Диска, для распознавания:\n",
        "\n",
        "- image.load_img() загружает фото по пути img_path, масштабируя его до размера 28×28 пикселей и переводя в оттенки серого.\n",
        "\n",
        "- Преобразование в массив: image.img_to_array() конвертирует изображение в числовой массив.\n",
        "\n",
        "- Инверсия цветов: для правильного распознавания цвета цифры и фона цвета инвертируются: белый становится чёрным и наоборот (255 - img_array).\n",
        "\n",
        "- Пороговая фильтрация: пиксели с интенсивностью ниже 150 устанавливаются в 0 — это помогает убрать шумы и выделить фигуру.\n",
        "\n",
        "- Визуализация: отображение обработанного изображения с помощью plt.imshow() в оттенках серого.\n",
        "\n",
        "- Подготовка к модели: массив преобразуется в вектор, нормируется (деление на 255) и приводится к типу float32 для подачи в нейронную сеть."
      ],
      "metadata": {
        "id": "hpnG721VEXrV"
      }
    },
    {
      "cell_type": "code",
      "source": [
        "img_path = \"/content/drive/My Drive/Photo/4.jpg\"\n",
        "img = image.load_img(img_path, target_size=(28, 28), color_mode='grayscale')\n",
        "img_array = image.img_to_array(img)\n",
        "img_array = 255 - img_array\n",
        "img_array = np.where(img_array < 150, 0, img_array)\n",
        "plt.imshow(img_array, cmap=\"gray\")\n",
        "img_train = img_array.reshape(1, -1).astype(\"float32\")  / 255.0"
      ],
      "metadata": {
        "colab": {
          "base_uri": "https://localhost:8080/",
          "height": 430
        },
        "id": "bJse3V6bE6Lh",
        "outputId": "d291e13d-e19c-416f-aad2-660c49e6d87e",
        "collapsed": true
      },
      "execution_count": 24,
      "outputs": [
        {
          "output_type": "display_data",
          "data": {
            "text/plain": [
              "<Figure size 640x480 with 1 Axes>"
            ],
            "image/png": "[encoded data removed]"
          },
          "metadata": {}
        }
      ]
    },
    {
      "cell_type": "markdown",
      "source": [
        "Предсказание класса рукописной цифры.\n",
        "\n",
        "Прогнозирование: model.predict(img_train) вычисляет вероятности для каждого из 10 классов (цифр от 0 до 9).\n",
        "\n",
        "Определение класса: np.argmax(prediction) выбирает класс с максимальной вероятностью — это и есть распознанная цифра."
      ],
      "metadata": {
        "id": "WxGIODISEyM8"
      }
    },
    {
      "cell_type": "code",
      "source": [
        "prediction = model.predict(img_train)\n",
        "predicted_class = np.argmax(prediction)\n",
        "print(\"Распознанная цифра:\", predicted_class)"
      ],
      "metadata": {
        "id": "_sTXbjdEFDWJ",
        "colab": {
          "base_uri": "https://localhost:8080/"
        },
        "outputId": "19d4bb39-f458-4ea6-8a3e-65b6812a3594"
      },
      "execution_count": 25,
      "outputs": [
        {
          "output_type": "stream",
          "name": "stdout",
          "text": [
            "\u001b[1m1/1\u001b[0m \u001b[32m━━━━━━━━━━━━━━━━━━━━\u001b[0m\u001b[37m\u001b[0m \u001b[1m0s\u001b[0m 288ms/step\n",
            "Распознанная цифра: 4\n"
          ]
        }
      ]
    },
    {
      "cell_type": "markdown",
      "source": [
        "# Вывод по заданию\n",
        "В данном задании была создана и обучена глубокая нейронная сеть для распознавания рукописных цифр из набора MNIST. Модель успешно справилась с задачей классификации, достигнув высокой точности благодаря использованию нескольких полносвязных слоев с функцией активации ReLU и softmax на выходе. Кроме того, была реализована обработка пользовательского изображения: оно было загружено, приведено к нужному формату, инвертировано и нормализовано для корректного распознавания. Итоговое предсказание продемонстрировало, что сеть способна распознавать собственноручно написанные цифры, хотя качество распознавания может зависеть от особенностей изображения — размера, толщины линий и контраста."
      ],
      "metadata": {
        "id": "3f4KoFTYE2DB"
      }
    }
  ]
}